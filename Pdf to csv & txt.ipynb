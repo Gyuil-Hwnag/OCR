{
 "cells": [
  {
   "cell_type": "code",
   "execution_count": 3,
   "id": "728b8986",
   "metadata": {},
   "outputs": [
    {
     "name": "stdout",
     "output_type": "stream",
     "text": [
      "          현재 주가(1/12) Unnamed: 0           Unnamed: 1  \\\n",
      "0                상승여력        NaN                  NaN   \n",
      "1                시가총액        NaN                  NaN   \n",
      "2                 NaN        NaN                  NaN   \n",
      "3               발행주식수        NaN                  NaN   \n",
      "4      52 주 최고가 / 최저가        NaN                  NaN   \n",
      "5       90 일 일평균 거래대금        NaN                  NaN   \n",
      "6             외국인 지분율        NaN                  NaN   \n",
      "7                 NaN        NaN                  NaN   \n",
      "8               주주 구성        NaN                  NaN   \n",
      "9           GS (외 2인)        NaN                  NaN   \n",
      "10      국민연금공단 (외 1인)        NaN                  NaN   \n",
      "11        자사주 (외 1 인)        NaN                  NaN   \n",
      "12                NaN        NaN                  NaN   \n",
      "13                NaN        NaN                  NaN   \n",
      "14       주가수익률(%) 1개월        3개월                  NaN   \n",
      "15         절대수익률 -5.7        NaN                 -8.2   \n",
      "16  상대수익률(KOSPI) -4.5      -10.1                  NaN   \n",
      "17                NaN        NaN  (단위: 십억 원, 원, %, 배)   \n",
      "18          재무정보 2019       2020                  NaN   \n",
      "19          매출액 9,007      8,862                  NaN   \n",
      "20           영업이익 239        253                  NaN   \n",
      "21         EBITDA 898        921                  NaN   \n",
      "22        지배주주순이익 133        168                  NaN   \n",
      "23          EPS 1,729      2,187                  NaN   \n",
      "24         순차입금 2,696      2,593                  NaN   \n",
      "25           PER 22.7       15.7                  NaN   \n",
      "26            PBR 1.4        NaN                  1.2   \n",
      "27      EV/EBITDA 6.4        NaN                  5.7   \n",
      "28          배당수익률 1.9        NaN                  2.6   \n",
      "29            ROE 6.2        NaN                  7.5   \n",
      "30                NaN        NaN                  NaN   \n",
      "31                NaN        NaN                  NaN   \n",
      "32              주가 추이        NaN                  NaN   \n",
      "33                NaN        NaN                  NaN   \n",
      "34                (원)        NaN                  NaN   \n",
      "35       60,000 GS리테일        NaN                  NaN   \n",
      "\n",
      "      에(전년동기대비 +142.1%) 달할 것으로 추정한다. 합병기준으로 전환29,600원  \n",
      "0         ▲102.7% 해보면 매출액은 전년동기대비 +3.5%, 영업이익은 전년동기대비  \n",
      "1                                            30,997억원  \n",
      "2                                      -13.5%으로 분석한다.  \n",
      "3                                           104,718천주  \n",
      "4                                    39,250 / 28,250원  \n",
      "5      66.32억원 4분기 부진한 실적을 전망하는 근거는 1) 사회적거리두기 강화 및 추  \n",
      "6        8.1% 운 날씨 여파로 편의점 집객력이 하락하였고, 2) 슈퍼마켓 사업부 부진  \n",
      "7                                                 NaN  \n",
      "8             과, 3) 채널수수료 증가에 따른 홈쇼핑 비용 부담 증가가 예상되기 때  \n",
      "9                                          57.9% 문이다.  \n",
      "10                                               8.3%  \n",
      "11                                               2.4%  \n",
      "12                                    실적 둔화에도 기대되는 이유  \n",
      "13                                                NaN  \n",
      "14     6개월 12개월 부진한 실적 흐름은 1분기를 기점으로 개선될 것으로 전망한다. 그러  \n",
      "15                                       -18.8  -18.1  \n",
      "16  -10.4  -13.2  한 이유는 1) 홈쇼핑 사업부에 대한 기저가 낮아지고, 2...  \n",
      "17            가에 따라 편의점 집객력 상승이 예상되며, 3) 슈퍼마켓 사업부 비수익  \n",
      "18  2021E 2022E 점포 개선 지속, 4) 홈쇼핑과의 합병 시너지가 기대되기 때문이다.  \n",
      "19                                      9,698  11,212  \n",
      "20                                           248  355  \n",
      "21  968  1,161  동사는 올해 ▶ 홈쇼핑과의 시너지 본격화, ▶ 요기요와의 협업...  \n",
      "22   875  362  비즈니스 모델 구축, ▶ 온·오프라인 채널 구축을 통한 차별적인 경쟁  \n",
      "23                                       8,771  3,454  \n",
      "24                 2,101  1,591  력 확보가 이루어질 것으로 전망한다.  \n",
      "25                                           3.5  8.6  \n",
      "26                    0.8  0.7  투자의견 BUY, 목표주가 6만원 유지  \n",
      "27                                           5.5  4.0  \n",
      "28   3.1  3.7  동사에 대한 투자의견 BUY와 목표주가 6만원을 유지한다. 목표주가와  \n",
      "29  27.4  8.6  실질 주가와의 괴리율 차이가 크지만, ▶ 2022년 실적 기준 ...  \n",
      "30                                                NaN  \n",
      "31         은 8.6배에 불과하고, ▶ 연간 EBITDA 창출능력이 약 9천억원(사용권  \n",
      "32                                                NaN  \n",
      "33              자산상각비 제외) 수준에 달하며, ▶ 주요 사업부인 편의점과 홈쇼핑  \n",
      "34                                               (pt)  \n",
      "35           150 이익 창출능력이 안정적이고, ▶ 현금흐름창출능력을 기반으로 공격적  \n"
     ]
    }
   ],
   "source": [
    "# Import the required Module\n",
    "import tabula\n",
    "# from tabula.io import read_pdf\n",
    "\n",
    "# Read a PDF File\n",
    "df = tabula.read_pdf(\"한화투자증권-남성현.pdf\", pages='all')[0]\n",
    "\n",
    "# convert PDF into CSV\n",
    "tabula.convert_into(\"한화투자증권-남성현.pdf\", \"한화투자증권-남성현.csv\", output_format=\"csv\", pages='all')\n",
    "print(df)"
   ]
  },
  {
   "cell_type": "code",
   "execution_count": null,
   "id": "3cfe6428",
   "metadata": {},
   "outputs": [],
   "source": [
    "import pdfminer\n",
    "from pdfminer.high_level import extract_text\n",
    "\n",
    "text = extract_text"
   ]
  }
 ],
 "metadata": {
  "kernelspec": {
   "display_name": "Python 3",
   "language": "python",
   "name": "python3"
  },
  "language_info": {
   "codemirror_mode": {
    "name": "ipython",
    "version": 3
   },
   "file_extension": ".py",
   "mimetype": "text/x-python",
   "name": "python",
   "nbconvert_exporter": "python",
   "pygments_lexer": "ipython3",
   "version": "3.8.8"
  }
 },
 "nbformat": 4,
 "nbformat_minor": 5
}
