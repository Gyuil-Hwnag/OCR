{
 "cells": [
  {
   "cell_type": "code",
   "execution_count": 1,
   "id": "ec606dea",
   "metadata": {},
   "outputs": [
    {
     "name": "stdout",
     "output_type": "stream",
     "text": [
      "success\n",
      "success\n",
      "success\n",
      "success\n",
      "success\n",
      "success\n"
     ]
    }
   ],
   "source": [
    "from pdf2image import convert_from_path\n",
    "\n",
    "pdfs = r\"/Users/hwang-gyuil/Desktop/더미데이터OCR용/한화투자증권/한화투자증권-남성현.pdf\"\n",
    "pages = convert_from_path(pdfs, 350)\n",
    "i = 1\n",
    "for page in pages:\n",
    "    image_name = \"Page_\" + str(i) + \".png\"  \n",
    "    page.save(image_name, \"PNG\")\n",
    "    i = i+1\n",
    "    print(\"success\")"
   ]
  },
  {
   "cell_type": "code",
   "execution_count": null,
   "id": "60a4faf3",
   "metadata": {},
   "outputs": [],
   "source": []
  }
 ],
 "metadata": {
  "kernelspec": {
   "display_name": "Python 3",
   "language": "python",
   "name": "python3"
  },
  "language_info": {
   "codemirror_mode": {
    "name": "ipython",
    "version": 3
   },
   "file_extension": ".py",
   "mimetype": "text/x-python",
   "name": "python",
   "nbconvert_exporter": "python",
   "pygments_lexer": "ipython3",
   "version": "3.8.8"
  }
 },
 "nbformat": 4,
 "nbformat_minor": 5
}
